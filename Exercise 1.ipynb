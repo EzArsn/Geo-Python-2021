{
 "cells": [
  {
   "cell_type": "markdown",
   "id": "affe177d-39d3-4b79-bb2a-70231af32fec",
   "metadata": {},
   "source": [
    "### Problem 1"
   ]
  },
  {
   "cell_type": "code",
   "execution_count": 5,
   "id": "103bfeed-16fe-45cf-a485-e2a9f5e2187d",
   "metadata": {},
   "outputs": [],
   "source": [
    "ice_cream_rating=6\n",
    "sleep_rating=7"
   ]
  },
  {
   "cell_type": "markdown",
   "id": "b4261e06-5f1e-4500-b247-b54cc1498c03",
   "metadata": {},
   "source": [
    "### Problem 2"
   ]
  },
  {
   "cell_type": "code",
   "execution_count": 6,
   "id": "500dd559-b272-410d-bd40-7413c35a52bd",
   "metadata": {
    "tags": []
   },
   "outputs": [
    {
     "name": "stdin",
     "output_type": "stream",
     "text": [
      "What is your first name? Prasun\n",
      "What is your last name? Mondal\n"
     ]
    }
   ],
   "source": [
    "first_name=input('What is your first name?')\n",
    "last_name=input('What is your last name?')"
   ]
  },
  {
   "cell_type": "markdown",
   "id": "d8ba91e1-a48d-4073-ad56-356081bd919a",
   "metadata": {
    "tags": []
   },
   "source": [
    "##### option"
   ]
  },
  {
   "cell_type": "code",
   "execution_count": 7,
   "id": "d31c2306-a82f-4ec3-9541-53c05441014e",
   "metadata": {},
   "outputs": [
    {
     "name": "stdout",
     "output_type": "stream",
     "text": [
      "Prasun Mondal\n"
     ]
    }
   ],
   "source": [
    "my_name=first_name+' '+last_name\n",
    "print(my_name)"
   ]
  },
  {
   "cell_type": "markdown",
   "id": "5468b6ab-baa6-4839-a194-356c760828a3",
   "metadata": {},
   "source": [
    "### Problem 3"
   ]
  },
  {
   "cell_type": "code",
   "execution_count": 8,
   "id": "05ee089f-cb7f-4b8e-92aa-deae758c548d",
   "metadata": {},
   "outputs": [],
   "source": [
    "happiness_rating=(ice_cream_rating+sleep_rating)/2"
   ]
  },
  {
   "cell_type": "markdown",
   "id": "0e856eed-bd03-4930-83d0-d76aa9494491",
   "metadata": {},
   "source": [
    "### Problem 4"
   ]
  },
  {
   "cell_type": "code",
   "execution_count": 12,
   "id": "d759f78c-3047-41ba-a09f-9c938d292b82",
   "metadata": {},
   "outputs": [
    {
     "name": "stdout",
     "output_type": "stream",
     "text": [
      "<class 'int'>\n",
      "<class 'str'>\n",
      "<class 'float'>\n"
     ]
    }
   ],
   "source": [
    "print(type(ice_cream_rating))\n",
    "print(type(first_name))\n",
    "print(type(happiness_rating))"
   ]
  },
  {
   "cell_type": "markdown",
   "id": "f74a72a0-b751-4ab1-beaf-451ca510bf91",
   "metadata": {},
   "source": [
    "Datatype of happiness rating was not expected as float, as the generic assumption that mathematical expression between two integers would give out integer."
   ]
  },
  {
   "cell_type": "markdown",
   "id": "5b6c4a37-62ec-4500-87b5-85199a988b51",
   "metadata": {},
   "source": [
    "### Problem 5"
   ]
  },
  {
   "cell_type": "code",
   "execution_count": 13,
   "id": "4a67beff-3e62-49d8-9c9e-e247949043f2",
   "metadata": {},
   "outputs": [
    {
     "name": "stdout",
     "output_type": "stream",
     "text": [
      "My name is Prasun and I give eating ice cream a score of 6 out of 10!\n",
      "I am Prasun Mondal and my sleeping enjoyment rating is 7 / 10!\n",
      "Based on the factors above, my happiness rating is 6.5 out of 10, or 65.0 %!\n"
     ]
    }
   ],
   "source": [
    "print(\"My name is\",first_name,'and I give eating ice cream a score of',ice_cream_rating,'out of 10!')\n",
    "print('I am',my_name,'and my sleeping enjoyment rating is',sleep_rating,'/ 10!')\n",
    "print('Based on the factors above, my happiness rating is',happiness_rating,'out of 10, or',happiness_rating*10,'%!')"
   ]
  },
  {
   "cell_type": "code",
   "execution_count": null,
   "id": "c87828be-d85f-41ce-b547-73c11e8b5709",
   "metadata": {},
   "outputs": [],
   "source": []
  }
 ],
 "metadata": {
  "kernelspec": {
   "display_name": "Python 3 (ipykernel)",
   "language": "python",
   "name": "python3"
  },
  "language_info": {
   "codemirror_mode": {
    "name": "ipython",
    "version": 3
   },
   "file_extension": ".py",
   "mimetype": "text/x-python",
   "name": "python",
   "nbconvert_exporter": "python",
   "pygments_lexer": "ipython3",
   "version": "3.10.4"
  }
 },
 "nbformat": 4,
 "nbformat_minor": 5
}
